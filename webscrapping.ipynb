{
 "cells": [
  {
   "cell_type": "code",
   "execution_count": 3,
   "metadata": {},
   "outputs": [],
   "source": [
    "#Importing necessary libraries\n",
    "\n",
    "import requests\n",
    "from bs4 import BeautifulSoup"
   ]
  },
  {
   "cell_type": "code",
   "execution_count": 29,
   "metadata": {},
   "outputs": [],
   "source": [
    "#website that we want to scrap\n",
    "\n",
    "url = 'https://www.flipkart.com/search?q=mobiles&as=on&as-show=on&otracker=AS_Query_TrendingAutoSuggest_1_0_na_na_na&otracker1=AS_Query_TrendingAutoSuggest_1_0_na_na_na&as-pos=1&as-type=TRENDING&suggestionId=mobiles&requestId=25a6b2f8-1e42-4b3c-946e-5951710e6938'"
   ]
  },
  {
   "cell_type": "code",
   "execution_count": 34,
   "metadata": {},
   "outputs": [],
   "source": [
    "#Requesting data from website as well as using beautifulsoup to extrac the data\n",
    " \n",
    "r = requests.get(url)\n",
    "soup = BeautifulSoup(r.text , 'html.parser')"
   ]
  },
  {
   "cell_type": "code",
   "execution_count": 11,
   "metadata": {},
   "outputs": [
    {
     "name": "stdout",
     "output_type": "stream",
     "text": [
      "Redmi 8 (Onyx Black, 64 GB)\n",
      "Infinix Hot 8 (Shark Grey, 64 GB)\n",
      "Infinix Hot 8 (Cosmic Purple, 64 GB)\n",
      "Infinix Hot 8 (Quetzal Cyan, 64 GB)\n",
      "Realme 3i (Diamond Black, 32 GB)\n",
      "Realme 3i (Diamond Blue, 32 GB)\n",
      "Realme 3i (Diamond Black, 64 GB)\n",
      "Realme 3i (Diamond Blue, 64 GB)\n",
      "Realme 3i (Diamond Red, 64 GB)\n",
      "Redmi 8 (Sapphire Blue, 64 GB)\n",
      "Redmi Note 7 Pro (Neptune Blue, 64 GB)\n",
      "Redmi 8A (Ocean Blue, 32 GB)\n",
      "Redmi Note 7S (Sapphire Blue, 64 GB)\n",
      "Detel D1 Guru\n",
      "Redmi 7A (Matte Blue, 32 GB)\n",
      "Realme 5 Pro (Sparkling Blue, 128 GB)\n",
      "Realme 5 Pro (Sparkling Blue, 64 GB)\n",
      "Realme 5 Pro (Crystal Green, 64 GB)\n",
      "Realme 5 Pro (Sparkling Blue, 64 GB)\n",
      "Niamia Cad V\n",
      "Redmi 8 (Ruby Red, 64 GB)\n",
      "Redmi 8A (Ocean Blue, 32 GB)\n",
      "Redmi 8A (Midnight Black, 32 GB)\n",
      "Ecotel E16\n"
     ]
    }
   ],
   "source": [
    "#Scraping name of mobile sets\n",
    "\n",
    "for mobile in soup.find_all('div' , class_ = '_3wU53n'):\n",
    "    print(mobile.text)"
   ]
  },
  {
   "cell_type": "code",
   "execution_count": 30,
   "metadata": {},
   "outputs": [
    {
     "name": "stdout",
     "output_type": "stream",
     "text": [
      "₹7,999\n",
      "₹6,999\n",
      "₹6,999\n",
      "₹6,999\n",
      "₹7,999\n",
      "₹7,999\n",
      "₹9,999\n",
      "₹9,999\n",
      "₹9,999\n",
      "₹7,999\n",
      "₹10,999\n",
      "₹6,999\n",
      "₹9,999\n",
      "₹549\n",
      "₹5,499\n",
      "₹16,999\n",
      "₹13,999\n",
      "₹13,999\n",
      "₹14,999\n",
      "₹999\n",
      "₹7,999\n",
      "₹6,499\n",
      "₹6,999\n",
      "₹535\n"
     ]
    }
   ],
   "source": [
    "#scraping price of mobile sets\n",
    "\n",
    "for price in soup.find_all('div' , class_ = '_1vC4OE _2rQ-NK'):\n",
    "    print(price.text)"
   ]
  },
  {
   "cell_type": "code",
   "execution_count": 27,
   "metadata": {},
   "outputs": [
    {
     "name": "stdout",
     "output_type": "stream",
     "text": [
      "Redmi 8 (Onyx Black, 64 GB) ₹7,999\n",
      "Infinix Hot 8 (Shark Grey, 64 GB) ₹6,999\n",
      "Infinix Hot 8 (Cosmic Purple, 64 GB) ₹6,999\n",
      "Infinix Hot 8 (Quetzal Cyan, 64 GB) ₹6,999\n",
      "Realme 3i (Diamond Black, 32 GB) ₹7,999\n",
      "Realme 3i (Diamond Blue, 32 GB) ₹7,999\n",
      "Realme 3i (Diamond Black, 64 GB) ₹9,999\n",
      "Realme 3i (Diamond Blue, 64 GB) ₹9,999\n",
      "Realme 3i (Diamond Red, 64 GB) ₹9,999\n",
      "Redmi 8 (Sapphire Blue, 64 GB) ₹7,999\n",
      "Redmi Note 7 Pro (Neptune Blue, 64 GB) ₹10,999\n",
      "Redmi 8A (Ocean Blue, 32 GB) ₹6,999\n",
      "Redmi Note 7S (Sapphire Blue, 64 GB) ₹9,999\n",
      "Detel D1 Guru ₹549\n",
      "Redmi 7A (Matte Blue, 32 GB) ₹5,499\n",
      "Realme 5 Pro (Sparkling Blue, 128 GB) ₹16,999\n",
      "Realme 5 Pro (Sparkling Blue, 64 GB) ₹13,999\n",
      "Realme 5 Pro (Crystal Green, 64 GB) ₹13,999\n",
      "Realme 5 Pro (Sparkling Blue, 64 GB) ₹14,999\n",
      "Niamia Cad V ₹999\n",
      "Redmi 8 (Ruby Red, 64 GB) ₹7,999\n",
      "Redmi 8A (Ocean Blue, 32 GB) ₹6,499\n",
      "Redmi 8A (Midnight Black, 32 GB) ₹6,999\n",
      "Ecotel E16 ₹535\n"
     ]
    }
   ],
   "source": [
    "#creating empty list to store required data like model name, price amnd both\n",
    "\n",
    "mobile_model = []\n",
    "mobile_price = []\n",
    "data = []\n",
    "\n",
    "#using for loop to go through every data and find_all to scrap particular section  \n",
    "\n",
    "for dataset in soup.find_all('a' , class_ = '_31qSD5'):\n",
    "    \n",
    "    model = dataset.find('div' , class_ = '_3wU53n')\n",
    "    price = dataset.find('div' , class_ = '_1vC4OE _2rQ-NK')\n",
    "    \n",
    "    mobile_model.append(model.text)\n",
    "    mobile_price.append(price.text)\n",
    "    \n",
    "    data.append((model.text , price.text))\n",
    "    \n",
    "    print(model.text , price.text)"
   ]
  },
  {
   "cell_type": "code",
   "execution_count": 28,
   "metadata": {},
   "outputs": [
    {
     "data": {
      "text/plain": [
       "[('Redmi 8 (Onyx Black, 64 GB)', '₹7,999'),\n",
       " ('Infinix Hot 8 (Shark Grey, 64 GB)', '₹6,999'),\n",
       " ('Infinix Hot 8 (Cosmic Purple, 64 GB)', '₹6,999'),\n",
       " ('Infinix Hot 8 (Quetzal Cyan, 64 GB)', '₹6,999'),\n",
       " ('Realme 3i (Diamond Black, 32 GB)', '₹7,999'),\n",
       " ('Realme 3i (Diamond Blue, 32 GB)', '₹7,999'),\n",
       " ('Realme 3i (Diamond Black, 64 GB)', '₹9,999'),\n",
       " ('Realme 3i (Diamond Blue, 64 GB)', '₹9,999'),\n",
       " ('Realme 3i (Diamond Red, 64 GB)', '₹9,999'),\n",
       " ('Redmi 8 (Sapphire Blue, 64 GB)', '₹7,999'),\n",
       " ('Redmi Note 7 Pro (Neptune Blue, 64 GB)', '₹10,999'),\n",
       " ('Redmi 8A (Ocean Blue, 32 GB)', '₹6,999'),\n",
       " ('Redmi Note 7S (Sapphire Blue, 64 GB)', '₹9,999'),\n",
       " ('Detel D1 Guru', '₹549'),\n",
       " ('Redmi 7A (Matte Blue, 32 GB)', '₹5,499'),\n",
       " ('Realme 5 Pro (Sparkling Blue, 128 GB)', '₹16,999'),\n",
       " ('Realme 5 Pro (Sparkling Blue, 64 GB)', '₹13,999'),\n",
       " ('Realme 5 Pro (Crystal Green, 64 GB)', '₹13,999'),\n",
       " ('Realme 5 Pro (Sparkling Blue, 64 GB)', '₹14,999'),\n",
       " ('Niamia Cad V', '₹999'),\n",
       " ('Redmi 8 (Ruby Red, 64 GB)', '₹7,999'),\n",
       " ('Redmi 8A (Ocean Blue, 32 GB)', '₹6,499'),\n",
       " ('Redmi 8A (Midnight Black, 32 GB)', '₹6,999'),\n",
       " ('Ecotel E16', '₹535')]"
      ]
     },
     "execution_count": 28,
     "metadata": {},
     "output_type": "execute_result"
    }
   ],
   "source": [
    "data"
   ]
  },
  {
   "cell_type": "code",
   "execution_count": 35,
   "metadata": {},
   "outputs": [],
   "source": [
    "#Saving file in csv form. requires to convert the list created above to datafram, hence pandas\n",
    "\n",
    "import pandas as pd\n",
    "\n",
    "saving_file = pd.DataFrame.from_dict(data)\n",
    "\n",
    "saving_file.to_csv('trial.csv', index = False)"
   ]
  },
  {
   "cell_type": "code",
   "execution_count": null,
   "metadata": {},
   "outputs": [],
   "source": []
  }
 ],
 "metadata": {
  "kernelspec": {
   "display_name": "Python 3",
   "language": "python",
   "name": "python3"
  },
  "language_info": {
   "codemirror_mode": {
    "name": "ipython",
    "version": 3
   },
   "file_extension": ".py",
   "mimetype": "text/x-python",
   "name": "python",
   "nbconvert_exporter": "python",
   "pygments_lexer": "ipython3",
   "version": "3.7.3"
  }
 },
 "nbformat": 4,
 "nbformat_minor": 4
}
